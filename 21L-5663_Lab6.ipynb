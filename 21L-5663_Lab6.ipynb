{
 "cells": [
  {
   "cell_type": "markdown",
   "id": "295c1607",
   "metadata": {},
   "source": [
    "# Q3"
   ]
  },
  {
   "cell_type": "code",
   "execution_count": 1,
   "id": "927bd4ed",
   "metadata": {},
   "outputs": [
    {
     "name": "stdout",
     "output_type": "stream",
     "text": [
      "Overwriting wordcount.py\n"
     ]
    }
   ],
   "source": [
    "%%file wordcount.py\n",
    "\n",
    "from mrjob.job import MRJob\n",
    "\n",
    "line=open(\"text.txt\", \"r\")\n",
    "\n",
    "class Count(MRJob):\n",
    "    def mapper(self, _ ,line):\n",
    "      for word in line.split():\n",
    "        yield(word, 1)\n",
    "        \n",
    "    def reducer(self, word, counts):\n",
    "      yield(word, sum(counts))\n",
    "\n",
    "if __name__ == '__main__':\n",
    "    Count.run() "
   ]
  },
  {
   "cell_type": "code",
   "execution_count": 2,
   "id": "dd018e3f",
   "metadata": {},
   "outputs": [
    {
     "name": "stdout",
     "output_type": "stream",
     "text": [
      "\"for\"\t1\n",
      "\"geek\"\t2\n",
      "\"geek.\"\t1\n",
      "\"is\"\t1\n",
      "\"platform\"\t1\n",
      "\"the\"\t1\n"
     ]
    },
    {
     "name": "stderr",
     "output_type": "stream",
     "text": [
      "No configs found; falling back on auto-configuration\n",
      "No configs specified for inline runner\n",
      "Creating temp directory C:\\Users\\ABDULL~1\\AppData\\Local\\Temp\\wordcount.Abdullah Awan.20230308.174248.137285\n",
      "Running step 1 of 1...\n",
      "job output is in C:\\Users\\ABDULL~1\\AppData\\Local\\Temp\\wordcount.Abdullah Awan.20230308.174248.137285\\output\n",
      "Streaming final output from C:\\Users\\ABDULL~1\\AppData\\Local\\Temp\\wordcount.Abdullah Awan.20230308.174248.137285\\output...\n",
      "Removing temp directory C:\\Users\\ABDULL~1\\AppData\\Local\\Temp\\wordcount.Abdullah Awan.20230308.174248.137285...\n"
     ]
    }
   ],
   "source": [
    "! python wordcount.py text.txt"
   ]
  },
  {
   "cell_type": "markdown",
   "id": "72663423",
   "metadata": {},
   "source": [
    "# Q4"
   ]
  },
  {
   "cell_type": "code",
   "execution_count": 3,
   "id": "1304a910",
   "metadata": {},
   "outputs": [
    {
     "name": "stdout",
     "output_type": "stream",
     "text": [
      "Overwriting wordinvert.py\n"
     ]
    }
   ],
   "source": [
    "%%file wordinvert.py\n",
    "\n",
    "from mrjob.job import MRJob\n",
    "\n",
    "class InvertedIndex(MRJob):\n",
    "\n",
    "    def mapper(self, _, line):\n",
    "        words = line.strip().split()\n",
    "        for i in range(len(words)):\n",
    "            yield words[i], line.strip()\n",
    "\n",
    "    def reducer(self, key, values):\n",
    "        yield key, list(set(values))\n",
    "\n",
    "if __name__ == '__main__':\n",
    "    InvertedIndex.run()"
   ]
  },
  {
   "cell_type": "code",
   "execution_count": 4,
   "id": "0b6ff6ae",
   "metadata": {},
   "outputs": [
    {
     "name": "stdout",
     "output_type": "stream",
     "text": [
      "\"for\"\t[\"geek is geek platform for the geek.\"]\n",
      "\"geek\"\t[\"geek is geek platform for the geek.\"]\n",
      "\"geek.\"\t[\"geek is geek platform for the geek.\"]\n",
      "\"is\"\t[\"geek is geek platform for the geek.\"]\n",
      "\"platform\"\t[\"geek is geek platform for the geek.\"]\n",
      "\"the\"\t[\"geek is geek platform for the geek.\"]\n"
     ]
    },
    {
     "name": "stderr",
     "output_type": "stream",
     "text": [
      "No configs found; falling back on auto-configuration\n",
      "No configs specified for inline runner\n",
      "Creating temp directory C:\\Users\\ABDULL~1\\AppData\\Local\\Temp\\wordinvert.Abdullah Awan.20230308.174249.048734\n",
      "Running step 1 of 1...\n",
      "job output is in C:\\Users\\ABDULL~1\\AppData\\Local\\Temp\\wordinvert.Abdullah Awan.20230308.174249.048734\\output\n",
      "Streaming final output from C:\\Users\\ABDULL~1\\AppData\\Local\\Temp\\wordinvert.Abdullah Awan.20230308.174249.048734\\output...\n",
      "Removing temp directory C:\\Users\\ABDULL~1\\AppData\\Local\\Temp\\wordinvert.Abdullah Awan.20230308.174249.048734...\n"
     ]
    }
   ],
   "source": [
    "! python wordinvert.py text.txt"
   ]
  },
  {
   "cell_type": "markdown",
   "id": "bc2df854",
   "metadata": {},
   "source": [
    "# Q5"
   ]
  },
  {
   "cell_type": "code",
   "execution_count": 5,
   "id": "e57a59f3",
   "metadata": {},
   "outputs": [
    {
     "name": "stdout",
     "output_type": "stream",
     "text": [
      "Words starting with g : 3\n",
      "Words starting with i : 1\n",
      "Words starting with p : 1\n",
      "Words starting with f : 1\n",
      "Words starting with t : 1\n"
     ]
    }
   ],
   "source": [
    "def map_function(text):\n",
    "    word_counts = {}\n",
    "    with open(text, \"r\") as file:\n",
    "        for line in file:\n",
    "            for word in line.split():\n",
    "                if word[0] not in word_counts:\n",
    "                    word_counts[word[0]] = 1\n",
    "                else:\n",
    "                    word_counts[word[0]] += 1\n",
    "    return word_counts\n",
    "\n",
    "def reduce_function(word_counts):\n",
    "    word_counts_total = {}\n",
    "    for key, value in word_counts.items():\n",
    "        if key not in word_counts_total:\n",
    "            word_counts_total[key] = value\n",
    "        else:\n",
    "            word_counts_total[key] += value\n",
    "    return word_counts_total\n",
    "\n",
    "map_result = map_function(\"text.txt\")\n",
    "word_counts = reduce_function(map_result)\n",
    "\n",
    "for key, value in word_counts.items():\n",
    "    print(f\"Words starting with {key} : {value}\")\n"
   ]
  },
  {
   "cell_type": "markdown",
   "id": "7dd486a8",
   "metadata": {},
   "source": [
    "# Q6"
   ]
  },
  {
   "cell_type": "code",
   "execution_count": 6,
   "id": "5f8291da",
   "metadata": {},
   "outputs": [
    {
     "name": "stdout",
     "output_type": "stream",
     "text": [
      "Overwriting wordcount.py\n"
     ]
    }
   ],
   "source": [
    "%%file wordcount.py\n",
    "\n",
    "from mrjob.job import MRJob\n",
    "\n",
    "class WordCount(MRJob):\n",
    "    def mapper(self, _, line):\n",
    "        words = line.split()\n",
    "        for word in words:\n",
    "            if len(word) == 5:\n",
    "                yield word, 1\n",
    "    \n",
    "    def reducer(self, word, counts):\n",
    "        yield word, sum(counts)\n",
    "\n",
    "if __name__ == '__main__':\n",
    "    WordCount.run()"
   ]
  },
  {
   "cell_type": "code",
   "execution_count": 7,
   "id": "180afb65",
   "metadata": {},
   "outputs": [
    {
     "name": "stdout",
     "output_type": "stream",
     "text": [
      "\"geek.\"\t1\n"
     ]
    },
    {
     "name": "stderr",
     "output_type": "stream",
     "text": [
      "No configs found; falling back on auto-configuration\n",
      "No configs specified for inline runner\n",
      "Creating temp directory C:\\Users\\ABDULL~1\\AppData\\Local\\Temp\\wordcount.Abdullah Awan.20230308.174250.076780\n",
      "Running step 1 of 1...\n",
      "job output is in C:\\Users\\ABDULL~1\\AppData\\Local\\Temp\\wordcount.Abdullah Awan.20230308.174250.076780\\output\n",
      "Streaming final output from C:\\Users\\ABDULL~1\\AppData\\Local\\Temp\\wordcount.Abdullah Awan.20230308.174250.076780\\output...\n",
      "Removing temp directory C:\\Users\\ABDULL~1\\AppData\\Local\\Temp\\wordcount.Abdullah Awan.20230308.174250.076780...\n"
     ]
    }
   ],
   "source": [
    "! python wordcount.py text.txt"
   ]
  }
 ],
 "metadata": {
  "kernelspec": {
   "display_name": "Python 3 (ipykernel)",
   "language": "python",
   "name": "python3"
  },
  "language_info": {
   "codemirror_mode": {
    "name": "ipython",
    "version": 3
   },
   "file_extension": ".py",
   "mimetype": "text/x-python",
   "name": "python",
   "nbconvert_exporter": "python",
   "pygments_lexer": "ipython3",
   "version": "3.10.7"
  }
 },
 "nbformat": 4,
 "nbformat_minor": 5
}
